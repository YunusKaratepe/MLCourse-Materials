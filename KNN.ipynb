{
 "cells": [
  {
   "cell_type": "markdown",
   "metadata": {
    "id": "5S9Xe1CxwsTO"
   },
   "source": [
    "# KNN (K-Nearest-Neighbors)"
   ]
  },
  {
   "cell_type": "markdown",
   "metadata": {
    "id": "IY6eYLqYwsTW"
   },
   "source": [
    "KNN is a simple concept: define some distance metric between the items in your dataset, and find the K closest items. You can then use those items to predict some property of a test item, by having them somehow \"vote\" on it.\n",
    "\n",
    "As an example, let's look at the MovieLens data. We'll try to guess the rating of a movie by looking at the 10 movies that are closest to it in terms of genres and popularity.\n",
    "\n",
    "To start, we'll load up every rating in the data set into a Pandas DataFrame:"
   ]
  },
  {
   "cell_type": "code",
   "execution_count": 1,
   "metadata": {
    "colab": {
     "base_uri": "https://localhost:8080/",
     "height": 212
    },
    "executionInfo": {
     "elapsed": 2088,
     "status": "ok",
     "timestamp": 1617906928045,
     "user": {
      "displayName": "Yunus Karatepe",
      "photoUrl": "https://lh3.googleusercontent.com/-gkYdurf5-0Y/AAAAAAAAAAI/AAAAAAAAAEQ/Gv6EfvggbCs/s64/photo.jpg",
      "userId": "15205784445152331880"
     },
     "user_tz": -180
    },
    "id": "x0KdUEt3wsTX",
    "outputId": "2adefa57-55ee-44cd-90d2-85d538e8e892"
   },
   "outputs": [
    {
     "data": {
      "text/html": [
       "<div>\n",
       "<style scoped>\n",
       "    .dataframe tbody tr th:only-of-type {\n",
       "        vertical-align: middle;\n",
       "    }\n",
       "\n",
       "    .dataframe tbody tr th {\n",
       "        vertical-align: top;\n",
       "    }\n",
       "\n",
       "    .dataframe thead th {\n",
       "        text-align: right;\n",
       "    }\n",
       "</style>\n",
       "<table border=\"1\" class=\"dataframe\">\n",
       "  <thead>\n",
       "    <tr style=\"text-align: right;\">\n",
       "      <th></th>\n",
       "      <th>user_id</th>\n",
       "      <th>movie_id</th>\n",
       "      <th>rating</th>\n",
       "    </tr>\n",
       "  </thead>\n",
       "  <tbody>\n",
       "    <tr>\n",
       "      <th>0</th>\n",
       "      <td>0</td>\n",
       "      <td>50</td>\n",
       "      <td>5</td>\n",
       "    </tr>\n",
       "    <tr>\n",
       "      <th>1</th>\n",
       "      <td>0</td>\n",
       "      <td>172</td>\n",
       "      <td>5</td>\n",
       "    </tr>\n",
       "    <tr>\n",
       "      <th>2</th>\n",
       "      <td>0</td>\n",
       "      <td>133</td>\n",
       "      <td>1</td>\n",
       "    </tr>\n",
       "    <tr>\n",
       "      <th>3</th>\n",
       "      <td>196</td>\n",
       "      <td>242</td>\n",
       "      <td>3</td>\n",
       "    </tr>\n",
       "    <tr>\n",
       "      <th>4</th>\n",
       "      <td>186</td>\n",
       "      <td>302</td>\n",
       "      <td>3</td>\n",
       "    </tr>\n",
       "  </tbody>\n",
       "</table>\n",
       "</div>"
      ],
      "text/plain": [
       "   user_id  movie_id  rating\n",
       "0        0        50       5\n",
       "1        0       172       5\n",
       "2        0       133       1\n",
       "3      196       242       3\n",
       "4      186       302       3"
      ]
     },
     "execution_count": 1,
     "metadata": {},
     "output_type": "execute_result"
    }
   ],
   "source": [
    "# %cd /content/drive/MyDrive/colab/MLCourse\n",
    "import pandas as pd\n",
    "\n",
    "r_cols = ['user_id', 'movie_id', 'rating']\n",
    "ratings = pd.read_csv('./ml-100k/u.data', sep='\\t', names=r_cols, usecols=range(3))\n",
    "ratings.head()\n"
   ]
  },
  {
   "cell_type": "markdown",
   "metadata": {
    "id": "VKGJZI64wsTY"
   },
   "source": [
    "Now, we'll group everything by movie ID, and compute the total number of ratings (each movie's popularity) and the average rating for every movie:"
   ]
  },
  {
   "cell_type": "code",
   "execution_count": 2,
   "metadata": {
    "colab": {
     "base_uri": "https://localhost:8080/",
     "height": 254
    },
    "executionInfo": {
     "elapsed": 801,
     "status": "ok",
     "timestamp": 1617907455656,
     "user": {
      "displayName": "Yunus Karatepe",
      "photoUrl": "https://lh3.googleusercontent.com/-gkYdurf5-0Y/AAAAAAAAAAI/AAAAAAAAAEQ/Gv6EfvggbCs/s64/photo.jpg",
      "userId": "15205784445152331880"
     },
     "user_tz": -180
    },
    "id": "QgqGmZU6wsTZ",
    "outputId": "bf32d344-2b53-4b58-9c70-0967d2ce73f1"
   },
   "outputs": [
    {
     "data": {
      "text/html": [
       "<div>\n",
       "<style scoped>\n",
       "    .dataframe tbody tr th:only-of-type {\n",
       "        vertical-align: middle;\n",
       "    }\n",
       "\n",
       "    .dataframe tbody tr th {\n",
       "        vertical-align: top;\n",
       "    }\n",
       "\n",
       "    .dataframe thead tr th {\n",
       "        text-align: left;\n",
       "    }\n",
       "\n",
       "    .dataframe thead tr:last-of-type th {\n",
       "        text-align: right;\n",
       "    }\n",
       "</style>\n",
       "<table border=\"1\" class=\"dataframe\">\n",
       "  <thead>\n",
       "    <tr>\n",
       "      <th></th>\n",
       "      <th colspan=\"2\" halign=\"left\">rating</th>\n",
       "    </tr>\n",
       "    <tr>\n",
       "      <th></th>\n",
       "      <th>size</th>\n",
       "      <th>mean</th>\n",
       "    </tr>\n",
       "    <tr>\n",
       "      <th>movie_id</th>\n",
       "      <th></th>\n",
       "      <th></th>\n",
       "    </tr>\n",
       "  </thead>\n",
       "  <tbody>\n",
       "    <tr>\n",
       "      <th>1</th>\n",
       "      <td>452</td>\n",
       "      <td>3.878319</td>\n",
       "    </tr>\n",
       "    <tr>\n",
       "      <th>2</th>\n",
       "      <td>131</td>\n",
       "      <td>3.206107</td>\n",
       "    </tr>\n",
       "    <tr>\n",
       "      <th>3</th>\n",
       "      <td>90</td>\n",
       "      <td>3.033333</td>\n",
       "    </tr>\n",
       "    <tr>\n",
       "      <th>4</th>\n",
       "      <td>209</td>\n",
       "      <td>3.550239</td>\n",
       "    </tr>\n",
       "    <tr>\n",
       "      <th>5</th>\n",
       "      <td>86</td>\n",
       "      <td>3.302326</td>\n",
       "    </tr>\n",
       "  </tbody>\n",
       "</table>\n",
       "</div>"
      ],
      "text/plain": [
       "         rating          \n",
       "           size      mean\n",
       "movie_id                 \n",
       "1           452  3.878319\n",
       "2           131  3.206107\n",
       "3            90  3.033333\n",
       "4           209  3.550239\n",
       "5            86  3.302326"
      ]
     },
     "execution_count": 2,
     "metadata": {},
     "output_type": "execute_result"
    }
   ],
   "source": [
    "import numpy as np\n",
    "\n",
    "movieProperties = ratings.groupby('movie_id').agg({'rating': [np.size, np.mean]})\n",
    "movieProperties.head()"
   ]
  },
  {
   "cell_type": "markdown",
   "metadata": {
    "id": "OY9FYShswsTZ"
   },
   "source": [
    "The raw number of ratings isn't very useful for computing distances between movies, so we'll create a new DataFrame that contains the normalized number of ratings. So, a value of 0 means nobody rated it, and a value of 1 will mean it's the most popular movie there is."
   ]
  },
  {
   "cell_type": "code",
   "execution_count": 3,
   "metadata": {
    "id": "cGFfm-sYwsTa",
    "outputId": "1cbfe6cf-9098-4987-9102-14d980b6e440"
   },
   "outputs": [
    {
     "data": {
      "text/html": [
       "<div>\n",
       "<style scoped>\n",
       "    .dataframe tbody tr th:only-of-type {\n",
       "        vertical-align: middle;\n",
       "    }\n",
       "\n",
       "    .dataframe tbody tr th {\n",
       "        vertical-align: top;\n",
       "    }\n",
       "\n",
       "    .dataframe thead th {\n",
       "        text-align: right;\n",
       "    }\n",
       "</style>\n",
       "<table border=\"1\" class=\"dataframe\">\n",
       "  <thead>\n",
       "    <tr style=\"text-align: right;\">\n",
       "      <th></th>\n",
       "      <th>size</th>\n",
       "    </tr>\n",
       "    <tr>\n",
       "      <th>movie_id</th>\n",
       "      <th></th>\n",
       "    </tr>\n",
       "  </thead>\n",
       "  <tbody>\n",
       "    <tr>\n",
       "      <th>1</th>\n",
       "      <td>0.773585</td>\n",
       "    </tr>\n",
       "    <tr>\n",
       "      <th>2</th>\n",
       "      <td>0.222985</td>\n",
       "    </tr>\n",
       "    <tr>\n",
       "      <th>3</th>\n",
       "      <td>0.152659</td>\n",
       "    </tr>\n",
       "    <tr>\n",
       "      <th>4</th>\n",
       "      <td>0.356775</td>\n",
       "    </tr>\n",
       "    <tr>\n",
       "      <th>5</th>\n",
       "      <td>0.145798</td>\n",
       "    </tr>\n",
       "  </tbody>\n",
       "</table>\n",
       "</div>"
      ],
      "text/plain": [
       "              size\n",
       "movie_id          \n",
       "1         0.773585\n",
       "2         0.222985\n",
       "3         0.152659\n",
       "4         0.356775\n",
       "5         0.145798"
      ]
     },
     "execution_count": 3,
     "metadata": {},
     "output_type": "execute_result"
    }
   ],
   "source": [
    "movieNumRatings = pd.DataFrame(movieProperties['rating']['size'])\n",
    "movieNormalizedNumRatings = movieNumRatings.apply(lambda x: (x - np.min(x)) / (np.max(x) - np.min(x)))\n",
    "movieNormalizedNumRatings.head()"
   ]
  },
  {
   "cell_type": "markdown",
   "metadata": {
    "id": "ahTjwYiOwsTb"
   },
   "source": [
    "Now, let's get the genre information from the u.item file. The way this works is there are 19 fields, each corresponding to a specific genre - a value of '0' means it is not in that genre, and '1' means it is in that genre. A movie may have more than one genre associated with it.\n",
    "\n",
    "While we're at it, we'll put together everything into one big Python dictionary called movieDict. Each entry will contain the movie name, list of genre values, the normalized popularity score, and the average rating for each movie:"
   ]
  },
  {
   "cell_type": "code",
   "execution_count": 4,
   "metadata": {
    "id": "56q42PLiwsTb"
   },
   "outputs": [],
   "source": [
    "movieDict = {}\n",
    "with open('./ml-100k/u.item') as f:\n",
    "    temp = ''\n",
    "    for line in f:\n",
    "        #line.decode(\"ISO-8859-1\")\n",
    "        fields = line.rstrip('\\n').split('|')\n",
    "        movieID = int(fields[0])\n",
    "        name = fields[1]\n",
    "        genres = fields[5:25]\n",
    "        genres = map(int, genres)\n",
    "        movieDict[movieID] = (name, np.array(list(genres)), movieNormalizedNumRatings.loc[movieID].get('size'), movieProperties.loc[movieID].rating.get('mean'))\n"
   ]
  },
  {
   "cell_type": "markdown",
   "metadata": {
    "id": "ZsOqtDZ7wsTc"
   },
   "source": [
    "For example, here's the record we end up with for movie ID 1, \"Toy Story\":"
   ]
  },
  {
   "cell_type": "code",
   "execution_count": 5,
   "metadata": {
    "id": "9sY82lr2wsTc",
    "outputId": "2f1b865e-5795-4de8-f9c1-653ac800528f"
   },
   "outputs": [
    {
     "name": "stdout",
     "output_type": "stream",
     "text": [
      "('Young Guns (1988)', array([0, 1, 0, 0, 0, 1, 0, 0, 0, 0, 0, 0, 0, 0, 0, 0, 0, 0, 1]), 0.17152658662092624, 3.207920792079208)\n"
     ]
    }
   ],
   "source": [
    "print(movieDict[232])"
   ]
  },
  {
   "cell_type": "markdown",
   "metadata": {
    "id": "Vlfe1VWIwsTd"
   },
   "source": [
    "Now let's define a function that computes the \"distance\" between two movies based on how similar their genres are, and how similar their popularity is. Just to make sure it works, we'll compute the distance between movie ID's 2 and 4:"
   ]
  },
  {
   "cell_type": "code",
   "execution_count": 70,
   "metadata": {
    "id": "8e4zknkWwsTd",
    "outputId": "ab09c6d9-aab6-49d4-90cf-53a195b397e9"
   },
   "outputs": [],
   "source": [
    "from scipy import spatial\n",
    "\n",
    "def ComputeDistance(movie_1, movie_2):\n",
    "#     genresA = movie_1[1]\n",
    "#     genresB = movie_2[1]\n",
    "    genreDistance = spatial.distance.cosine(movie_1[1], movie_2[1])\n",
    "    popularityA = movie_1[2]\n",
    "    popularityB = movie_2[2]\n",
    "    popularityDistance = abs(popularityA - popularityB)\n",
    "    return (genreDistance**2) + popularityDistance\n",
    "    \n",
    "\n",
    "def get_movieID(movie_name: str):\n",
    "    return next(x for x in movieDict if (movie_name.lower() in movieDict[x][0].lower()))\n"
   ]
  },
  {
   "cell_type": "code",
   "execution_count": 71,
   "metadata": {},
   "outputs": [
    {
     "name": "stdout",
     "output_type": "stream",
     "text": [
      "('Empire Strikes Back, The (1980)', array([0, 1, 1, 0, 0, 0, 0, 0, 1, 0, 0, 0, 0, 0, 1, 1, 0, 1, 0]), 0.6295025728987993, 4.206521739130435)\n",
      "('Star Wars (1977)', array([0, 1, 1, 0, 0, 0, 0, 0, 0, 0, 0, 0, 0, 0, 1, 1, 0, 1, 0]), 1.0, 4.359589041095891)\n",
      "0.3780889020839803\n"
     ]
    }
   ],
   "source": [
    "movie1_id = get_movieID('empire strikes back')\n",
    "movie2_id = get_movieID('star wars')\n",
    "\n",
    "print(f'{movieDict[movie1_id]}')\n",
    "print(f'{movieDict[movie2_id]}')\n",
    "print(ComputeDistance(movieDict[movie1_id], movieDict[movie2_id]))"
   ]
  },
  {
   "cell_type": "markdown",
   "metadata": {
    "id": "GGFbhZ93wsTd"
   },
   "source": [
    "Remember the higher the distance, the less similar the movies are. Let's check what movies 2 and 4 actually are - and confirm they're not really all that similar:"
   ]
  },
  {
   "cell_type": "markdown",
   "metadata": {
    "id": "KFzvr4nWwsTe"
   },
   "source": [
    "Now, we just need a little code to compute the distance between some given test movie (Toy Story, in this example) and all of the movies in our data set. When the sort those by distance, and print out the K nearest neighbors:"
   ]
  },
  {
   "cell_type": "code",
   "execution_count": 86,
   "metadata": {
    "id": "gKyoPSbkwsTf",
    "outputId": "0afc8c61-8942-43dd-d708-a5a8834d7cf3"
   },
   "outputs": [
    {
     "name": "stdout",
     "output_type": "stream",
     "text": [
      "Star Wars (1977) 4.359589041095891\n",
      "Independence Day (ID4) (1996) 3.438228438228438\n",
      "Empire Strikes Back, The (1980) 4.206521739130435\n",
      "English Patient, The (1996) 3.656964656964657\n",
      "Raiders of the Lost Ark (1981) 4.252380952380952\n",
      "Star Trek: First Contact (1996) 3.66027397260274\n",
      "Princess Bride, The (1987) 4.172839506172839\n",
      "Indiana Jones and the Last Crusade (1989) 3.930513595166163\n",
      "Rock, The (1996) 3.693121693121693\n",
      "Men in Black (1997) 3.745874587458746\n"
     ]
    }
   ],
   "source": [
    "import operator\n",
    "\n",
    "def getNeighbors(movieID, K):\n",
    "    distances = []\n",
    "    for movie in movieDict:\n",
    "        if (movie != movieID):\n",
    "            dist = ComputeDistance(movieDict[movieID], movieDict[movie])\n",
    "            distances.append((movie, dist))\n",
    "    distances.sort(key=operator.itemgetter(1))\n",
    "    neighbors = []\n",
    "    for x in range(K):\n",
    "        neighbors.append(distances[x][0])\n",
    "    return neighbors\n",
    "\n",
    "K = 10\n",
    "avgRating = 0\n",
    "movie_name = 'Return of the Jedi'\n",
    "\n",
    "neighbors = getNeighbors(get_movieID(movie_name), K)\n",
    "for neighbor in neighbors:\n",
    "    avgRating += movieDict[neighbor][3]\n",
    "    print (movieDict[neighbor][0] + \" \" + str(movieDict[neighbor][3]))\n",
    "    \n",
    "avgRating /= K"
   ]
  },
  {
   "cell_type": "markdown",
   "metadata": {
    "id": "GlrRV3_YwsTf"
   },
   "source": [
    "While we were at it, we computed the average rating of the 10 nearest neighbors to Toy Story:"
   ]
  },
  {
   "cell_type": "code",
   "execution_count": 87,
   "metadata": {
    "id": "NCTlwddQwsTf",
    "outputId": "128ca015-24c3-454d-c7ac-ffa94360bd54"
   },
   "outputs": [
    {
     "data": {
      "text/plain": [
       "3.9116308182322554"
      ]
     },
     "execution_count": 87,
     "metadata": {},
     "output_type": "execute_result"
    }
   ],
   "source": [
    "avgRating"
   ]
  },
  {
   "cell_type": "markdown",
   "metadata": {
    "id": "mGvstIr9wsTg"
   },
   "source": [
    "How does this compare to Toy Story's actual average rating?"
   ]
  },
  {
   "cell_type": "code",
   "execution_count": 88,
   "metadata": {
    "id": "_7_mpp0NwsTg",
    "outputId": "ca7edec1-121d-499b-ca84-39cc8d0bbc9a"
   },
   "outputs": [
    {
     "data": {
      "text/plain": [
       "('Return of the Jedi (1983)',\n",
       " array([0, 1, 1, 0, 0, 0, 0, 0, 0, 0, 0, 0, 0, 0, 1, 1, 0, 1, 0]),\n",
       " 0.8679245283018868,\n",
       " 4.007889546351085)"
      ]
     },
     "execution_count": 88,
     "metadata": {},
     "output_type": "execute_result"
    }
   ],
   "source": [
    "movieDict[get_movieID(movie_name)]"
   ]
  },
  {
   "cell_type": "markdown",
   "metadata": {
    "id": "K4QTAAJ-wsTg"
   },
   "source": [
    "Not too bad!\n"
   ]
  },
  {
   "cell_type": "markdown",
   "metadata": {
    "id": "DjuH0wdswsTg"
   },
   "source": [
    "## Activity"
   ]
  },
  {
   "cell_type": "markdown",
   "metadata": {
    "id": "EUFQQWOHwsTg"
   },
   "source": [
    "Our choice of 10 for K was arbitrary - what effect do different K values have on the results?\n",
    "\n",
    "Our distance metric was also somewhat arbitrary - we just took the cosine distance between the genres and added it to the difference between the normalized popularity scores. Can you improve on that?"
   ]
  },
  {
   "cell_type": "code",
   "execution_count": null,
   "metadata": {
    "id": "8r3GA-MPwsTh"
   },
   "outputs": [],
   "source": []
  }
 ],
 "metadata": {
  "colab": {
   "name": "KNN.ipynb",
   "provenance": [],
   "toc_visible": true
  },
  "kernelspec": {
   "display_name": "Python 3",
   "language": "python",
   "name": "python3"
  },
  "language_info": {
   "codemirror_mode": {
    "name": "ipython",
    "version": 3
   },
   "file_extension": ".py",
   "mimetype": "text/x-python",
   "name": "python",
   "nbconvert_exporter": "python",
   "pygments_lexer": "ipython3",
   "version": "3.8.8"
  }
 },
 "nbformat": 4,
 "nbformat_minor": 1
}
