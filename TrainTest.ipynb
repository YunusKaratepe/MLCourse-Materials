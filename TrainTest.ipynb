{
 "cells": [
  {
   "cell_type": "markdown",
   "metadata": {
    "colab_type": "text",
    "id": "QbLewxf4VL0P"
   },
   "source": [
    "# Train / Test"
   ]
  },
  {
   "cell_type": "markdown",
   "metadata": {
    "colab_type": "text",
    "id": "b2QcnFidVL0Q"
   },
   "source": [
    "We'll start by creating some data set that we want to build a model for (in this case a polynomial regression):"
   ]
  },
  {
   "cell_type": "code",
   "execution_count": 1,
   "metadata": {
    "colab": {
     "base_uri": "https://localhost:8080/",
     "height": 282
    },
    "colab_type": "code",
    "executionInfo": {
     "elapsed": 1152,
     "status": "ok",
     "timestamp": 1598019189807,
     "user": {
      "displayName": "Yunus Karatepe",
      "photoUrl": "https://lh3.googleusercontent.com/-gkYdurf5-0Y/AAAAAAAAAAI/AAAAAAAAAEQ/Gv6EfvggbCs/s64/photo.jpg",
      "userId": "15205784445152331880"
     },
     "user_tz": -180
    },
    "id": "PM44_9B0VL0Q",
    "outputId": "8175777e-d646-43af-c60b-3a56c9d917a2"
   },
   "outputs": [
    {
     "data": {
      "text/plain": [
       "<matplotlib.collections.PathCollection at 0x19d95725ee0>"
      ]
     },
     "execution_count": 1,
     "metadata": {},
     "output_type": "execute_result"
    },
    {
     "data": {
      "image/png": "[encoded data removed]",
      "text/plain": [
       "<Figure size 432x288 with 1 Axes>"
      ]
     },
     "metadata": {
      "needs_background": "light"
     },
     "output_type": "display_data"
    }
   ],
   "source": [
    "%matplotlib inline\n",
    "import numpy as np\n",
    "from pylab import *\n",
    "\n",
    "np.random.seed(2)\n",
    "\n",
    "pageSpeeds = np.random.normal(3.0, 1.0, 100)\n",
    "purchaseAmount = np.random.normal(50.0, 30.0, 100) / pageSpeeds\n",
    "\n",
    "\n",
    "scatter(pageSpeeds, purchaseAmount)"
   ]
  },
  {
   "cell_type": "markdown",
   "metadata": {
    "colab_type": "text",
    "id": "FfMQH0YyVL0V"
   },
   "source": [
    "Now we'll split the data in two - 80% of it will be used for \"training\" our model, and the other 20% for testing it. This way we can avoid overfitting."
   ]
  },
  {
   "cell_type": "code",
   "execution_count": 8,
   "metadata": {
    "colab": {},
    "colab_type": "code",
    "executionInfo": {
     "elapsed": 1136,
     "status": "ok",
     "timestamp": 1598019189809,
     "user": {
      "displayName": "Yunus Karatepe",
      "photoUrl": "https://lh3.googleusercontent.com/-gkYdurf5-0Y/AAAAAAAAAAI/AAAAAAAAAEQ/Gv6EfvggbCs/s64/photo.jpg",
      "userId": "15205784445152331880"
     },
     "user_tz": -180
    },
    "id": "WYP0X2_XVL0W"
   },
   "outputs": [],
   "source": [
    "trainX = pageSpeeds[:80] # before 80\n",
    "testX = pageSpeeds[80:]\n",
    "\n",
    "trainY = purchaseAmount[:80]\n",
    "testY = purchaseAmount[80:]"
   ]
  },
  {
   "cell_type": "markdown",
   "metadata": {
    "colab_type": "text",
    "id": "YVl0SItEVL0a"
   },
   "source": [
    "Here's our training dataset:"
   ]
  },
  {
   "cell_type": "code",
   "execution_count": 15,
   "metadata": {
    "colab": {
     "base_uri": "https://localhost:8080/",
     "height": 282
    },
    "colab_type": "code",
    "executionInfo": {
     "elapsed": 1711,
     "status": "ok",
     "timestamp": 1598019190394,
     "user": {
      "displayName": "Yunus Karatepe",
      "photoUrl": "https://lh3.googleusercontent.com/-gkYdurf5-0Y/AAAAAAAAAAI/AAAAAAAAAEQ/Gv6EfvggbCs/s64/photo.jpg",
      "userId": "15205784445152331880"
     },
     "user_tz": -180
    },
    "id": "-KZr5Ni0VL0a",
    "outputId": "05e71d77-da9b-436e-ce6e-5c8507b8c0e7"
   },
   "outputs": [
    {
     "data": {
      "text/plain": [
       "(-10.0, 190.0)"
      ]
     },
     "execution_count": 15,
     "metadata": {},
     "output_type": "execute_result"
    },
    {
     "data": {
      "image/png": "[encoded data removed]",
      "text/plain": [
       "<Figure size 432x288 with 1 Axes>"
      ]
     },
     "metadata": {
      "needs_background": "light"
     },
     "output_type": "display_data"
    }
   ],
   "source": [
    "scatter(trainX, trainY)\n",
    "plt.xlim(0, 6)\n",
    "plt.ylim(-10, 190)"
   ]
  },
  {
   "cell_type": "markdown",
   "metadata": {
    "colab_type": "text",
    "id": "JM49A8hCVL0e"
   },
   "source": [
    "And our test dataset:"
   ]
  },
  {
   "cell_type": "code",
   "execution_count": 16,
   "metadata": {
    "colab": {
     "base_uri": "https://localhost:8080/",
     "height": 282
    },
    "colab_type": "code",
    "executionInfo": {
     "elapsed": 1699,
     "status": "ok",
     "timestamp": 1598019190395,
     "user": {
      "displayName": "Yunus Karatepe",
      "photoUrl": "https://lh3.googleusercontent.com/-gkYdurf5-0Y/AAAAAAAAAAI/AAAAAAAAAEQ/Gv6EfvggbCs/s64/photo.jpg",
      "userId": "15205784445152331880"
     },
     "user_tz": -180
    },
    "id": "YXgMR0UuVL0f",
    "outputId": "de6ac665-1a86-455e-b3c3-aeede43e0af9"
   },
   "outputs": [
    {
     "data": {
      "text/plain": [
       "(-10.0, 190.0)"
      ]
     },
     "execution_count": 16,
     "metadata": {},
     "output_type": "execute_result"
    },
    {
     "data": {
      "image/png": "[encoded data removed]",
      "text/plain": [
       "<Figure size 432x288 with 1 Axes>"
      ]
     },
     "metadata": {
      "needs_background": "light"
     },
     "output_type": "display_data"
    }
   ],
   "source": [
    "scatter(testX, testY)\n",
    "plt.xlim(0, 6)\n",
    "plt.ylim(-10, 190)"
   ]
  },
  {
   "cell_type": "markdown",
   "metadata": {
    "colab_type": "text",
    "id": "iUES2aMwVL0i"
   },
   "source": [
    "Now we'll try to fit an 8th-degree polynomial to this data (which is almost certainly overfitting, given what we know about how it was generated!)"
   ]
  },
  {
   "cell_type": "code",
   "execution_count": 49,
   "metadata": {
    "colab": {},
    "colab_type": "code",
    "executionInfo": {
     "elapsed": 1012,
     "status": "ok",
     "timestamp": 1598019271538,
     "user": {
      "displayName": "Yunus Karatepe",
      "photoUrl": "https://lh3.googleusercontent.com/-gkYdurf5-0Y/AAAAAAAAAAI/AAAAAAAAAEQ/Gv6EfvggbCs/s64/photo.jpg",
      "userId": "15205784445152331880"
     },
     "user_tz": -180
    },
    "id": "WTmoQyh4VL0j"
   },
   "outputs": [],
   "source": [
    "x = np.array(trainX)\n",
    "y = np.array(trainY)\n",
    "\n",
    "p8 = np.poly1d(np.polyfit(x, y, 6))"
   ]
  },
  {
   "cell_type": "markdown",
   "metadata": {
    "colab_type": "text",
    "id": "plVBxWelVL0m"
   },
   "source": [
    "Let's plot our polynomial against the training data:"
   ]
  },
  {
   "cell_type": "code",
   "execution_count": 50,
   "metadata": {
    "colab": {
     "base_uri": "https://localhost:8080/",
     "height": 269
    },
    "colab_type": "code",
    "executionInfo": {
     "elapsed": 1006,
     "status": "ok",
     "timestamp": 1598019273013,
     "user": {
      "displayName": "Yunus Karatepe",
      "photoUrl": "https://lh3.googleusercontent.com/-gkYdurf5-0Y/AAAAAAAAAAI/AAAAAAAAAEQ/Gv6EfvggbCs/s64/photo.jpg",
      "userId": "15205784445152331880"
     },
     "user_tz": -180
    },
    "id": "Cg8MEU1OVL0m",
    "outputId": "3a26b250-132c-4b6d-b314-3231931c1080"
   },
   "outputs": [
    {
     "data": {
      "image/png": "[encoded data removed]",
      "text/plain": [
       "<Figure size 432x288 with 1 Axes>"
      ]
     },
     "metadata": {
      "needs_background": "light"
     },
     "output_type": "display_data"
    }
   ],
   "source": [
    "import matplotlib.pyplot as plt\n",
    "\n",
    "xp = np.linspace(0, 7, 100)\n",
    "axes = plt.axes()\n",
    "axes.set_xlim([0,7])\n",
    "axes.set_ylim([0, 200])\n",
    "plt.scatter(x, y)\n",
    "plt.plot(xp, p8(xp), c='r')\n",
    "plt.show()\n"
   ]
  },
  {
   "cell_type": "markdown",
   "metadata": {
    "colab_type": "text",
    "id": "zpuEu02YVL0q"
   },
   "source": [
    "And against our test data:"
   ]
  },
  {
   "cell_type": "code",
   "execution_count": 51,
   "metadata": {
    "colab": {
     "base_uri": "https://localhost:8080/",
     "height": 269
    },
    "colab_type": "code",
    "executionInfo": {
     "elapsed": 1032,
     "status": "ok",
     "timestamp": 1598019276204,
     "user": {
      "displayName": "Yunus Karatepe",
      "photoUrl": "https://lh3.googleusercontent.com/-gkYdurf5-0Y/AAAAAAAAAAI/AAAAAAAAAEQ/Gv6EfvggbCs/s64/photo.jpg",
      "userId": "15205784445152331880"
     },
     "user_tz": -180
    },
    "id": "BBCVyRmaVL0r",
    "outputId": "9777379f-bfb5-4bfe-d7dd-88089680023c"
   },
   "outputs": [
    {
     "data": {
      "image/png": "[encoded data removed]",
      "text/plain": [
       "<Figure size 432x288 with 1 Axes>"
      ]
     },
     "metadata": {
      "needs_background": "light"
     },
     "output_type": "display_data"
    }
   ],
   "source": [
    "testx = np.array(testX)\n",
    "testy = np.array(testY)\n",
    "\n",
    "axes = plt.axes()\n",
    "axes.set_xlim([0,7])\n",
    "axes.set_ylim([0, 200])\n",
    "plt.scatter(testx, testy)\n",
    "plt.plot(xp, p8(xp), c='r')\n",
    "plt.show()"
   ]
  },
  {
   "cell_type": "markdown",
   "metadata": {
    "colab_type": "text",
    "id": "YDDOcgwUVL0t"
   },
   "source": [
    "Doesn't look that bad when you just eyeball it, but the r-squared score on the test data is kind of horrible! This tells us that our model isn't all that great..."
   ]
  },
  {
   "cell_type": "code",
   "execution_count": 54,
   "metadata": {
    "colab": {
     "base_uri": "https://localhost:8080/",
     "height": 34
    },
    "colab_type": "code",
    "executionInfo": {
     "elapsed": 924,
     "status": "ok",
     "timestamp": 1598019283941,
     "user": {
      "displayName": "Yunus Karatepe",
      "photoUrl": "https://lh3.googleusercontent.com/-gkYdurf5-0Y/AAAAAAAAAAI/AAAAAAAAAEQ/Gv6EfvggbCs/s64/photo.jpg",
      "userId": "15205784445152331880"
     },
     "user_tz": -180
    },
    "id": "Rz5mMBUyVL0u",
    "outputId": "46520c2a-23de-4825-ebe1-7e54aacb7403"
   },
   "outputs": [
    {
     "name": "stdout",
     "output_type": "stream",
     "text": [
      "0.6050119470351373\n"
     ]
    }
   ],
   "source": [
    "from sklearn.metrics import r2_score\n",
    "\n",
    "r2 = r2_score(testy, p8(testx))\n",
    "\n",
    "print(r2)\n"
   ]
  },
  {
   "cell_type": "markdown",
   "metadata": {
    "colab_type": "text",
    "id": "1PIb4jKcVL0x"
   },
   "source": [
    "...even though it fits the training data better:"
   ]
  },
  {
   "cell_type": "code",
   "execution_count": 55,
   "metadata": {
    "colab": {
     "base_uri": "https://localhost:8080/",
     "height": 34
    },
    "colab_type": "code",
    "executionInfo": {
     "elapsed": 1030,
     "status": "ok",
     "timestamp": 1598019284940,
     "user": {
      "displayName": "Yunus Karatepe",
      "photoUrl": "https://lh3.googleusercontent.com/-gkYdurf5-0Y/AAAAAAAAAAI/AAAAAAAAAEQ/Gv6EfvggbCs/s64/photo.jpg",
      "userId": "15205784445152331880"
     },
     "user_tz": -180
    },
    "id": "5QNTixBQVL0x",
    "outputId": "b0918f19-3456-4113-eb50-14f3f4fd17e2"
   },
   "outputs": [
    {
     "name": "stdout",
     "output_type": "stream",
     "text": [
      "0.6025441707110457\n"
     ]
    }
   ],
   "source": [
    "from sklearn.metrics import r2_score\n",
    "\n",
    "r2 = r2_score(np.array(trainY), p8(np.array(trainX)))\n",
    "\n",
    "print(r2)"
   ]
  },
  {
   "cell_type": "markdown",
   "metadata": {
    "colab_type": "text",
    "id": "Vv5Do2uwVL00"
   },
   "source": [
    "If you're working with a Pandas DataFrame (using tabular, labeled data,) scikit-learn has built-in train_test_split functions to make this easy to do.\n",
    "\n",
    "Later we'll talk about even more robust forms of train/test, like K-fold cross-validation - where we try out multiple different splits of the data, to make sure we didn't just get lucky with where we split it."
   ]
  },
  {
   "cell_type": "markdown",
   "metadata": {
    "colab_type": "text",
    "id": "5wP2trwIVL01"
   },
   "source": [
    "## Activity"
   ]
  },
  {
   "cell_type": "markdown",
   "metadata": {
    "colab_type": "text",
    "id": "IUb1m9aaVL02"
   },
   "source": [
    "Try measuring the error on the test data using different degree polynomial fits. What degree works best?"
   ]
  },
  {
   "cell_type": "code",
   "execution_count": 18,
   "metadata": {
    "colab": {},
    "colab_type": "code",
    "executionInfo": {
     "elapsed": 2383,
     "status": "ok",
     "timestamp": 1598019191134,
     "user": {
      "displayName": "Yunus Karatepe",
      "photoUrl": "https://lh3.googleusercontent.com/-gkYdurf5-0Y/AAAAAAAAAAI/AAAAAAAAAEQ/Gv6EfvggbCs/s64/photo.jpg",
      "userId": "15205784445152331880"
     },
     "user_tz": -180
    },
    "id": "ez_1u5LeVL03"
   },
   "outputs": [],
   "source": [
    "# 6'th degree is the best fitting degree."
   ]
  }
 ],
 "metadata": {
  "colab": {
   "collapsed_sections": [],
   "name": "TrainTest.ipynb",
   "provenance": []
  },
  "kernelspec": {
   "display_name": "Python 3",
   "language": "python",
   "name": "python3"
  },
  "language_info": {
   "codemirror_mode": {
    "name": "ipython",
    "version": 3
   },
   "file_extension": ".py",
   "mimetype": "text/x-python",
   "name": "python",
   "nbconvert_exporter": "python",
   "pygments_lexer": "ipython3",
   "version": "3.8.8"
  }
 },
 "nbformat": 4,
 "nbformat_minor": 1
}
